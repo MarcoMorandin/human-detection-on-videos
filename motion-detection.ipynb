{
 "cells": [
  {
   "cell_type": "code",
   "execution_count": 1,
   "metadata": {},
   "outputs": [],
   "source": [
    "import cv2\n",
    "from tqdm import tqdm\n",
    "import os\n",
    "import glob\n",
    "import numpy as np"
   ]
  },
  {
   "cell_type": "code",
   "execution_count": 9,
   "metadata": {},
   "outputs": [],
   "source": [
    "frames_dir = 'preprocessed-frames'\n",
    "output_dir = 'motion-detection-frames'"
   ]
  },
  {
   "cell_type": "code",
   "execution_count": 3,
   "metadata": {},
   "outputs": [],
   "source": [
    "if not os.path.exists(output_dir):\n",
    "    os.makedirs(output_dir)"
   ]
  },
  {
   "cell_type": "code",
   "execution_count": 4,
   "metadata": {},
   "outputs": [],
   "source": [
    "out = cv2.VideoWriter(\"motion-detection-output.avi\", cv2.VideoWriter_fourcc(*\"MJPG\"), 15, (3420,1910))\n"
   ]
  },
  {
   "cell_type": "code",
   "execution_count": 5,
   "metadata": {},
   "outputs": [
    {
     "name": "stderr",
     "output_type": "stream",
     "text": [
      "  0%|          | 0/374 [00:00<?, ?it/s]"
     ]
    },
    {
     "name": "stderr",
     "output_type": "stream",
     "text": [
      "100%|██████████| 374/374 [02:43<00:00,  2.29it/s]\n"
     ]
    }
   ],
   "source": [
    "for i in tqdm(range(len(glob.glob1(frames_dir, \"*.jpg\")) - 1)):\n",
    "    prev_frame = cv2.imread(f\"{frames_dir}/frame{i}.jpg\")\n",
    "    curr_frame = cv2.imread(f\"{frames_dir}/frame{i + 1}.jpg\")\n",
    "\n",
    "    diff = cv2.absdiff(curr_frame, prev_frame)\n",
    "    _, binary_diff = cv2.threshold(diff, 30, 255, cv2.THRESH_BINARY)\n",
    "    kernel = cv2.getStructuringElement(cv2.MORPH_ELLIPSE, (5, 5))\n",
    "    clean_diff = cv2.morphologyEx(binary_diff, cv2.MORPH_CLOSE, kernel)\n",
    "    \n",
    "    out.write(clean_diff)\n",
    "    cv2.imwrite(f\"{output_dir}/frame{i}.jpg\", clean_diff)    \n",
    "\n",
    "    # flow = cv2.calcOpticalFlowFarneback(prev_frame, curr_frame, None,\n",
    "    #                                 0.5, 3, 15, 3, 5, 1.2, 0)\n",
    "    # magnitude, angle = cv2.cartToPolar(flow[..., 0], flow[..., 1])\n",
    "out.release()"
   ]
  },
  {
   "cell_type": "markdown",
   "metadata": {},
   "source": [
    "MOTION DETECTION USING Motion-Compensated Filtering"
   ]
  },
  {
   "cell_type": "code",
   "execution_count": 10,
   "metadata": {},
   "outputs": [],
   "source": [
    "output_dir = 'motion-detection-frames-MCF'"
   ]
  },
  {
   "cell_type": "code",
   "execution_count": 14,
   "metadata": {},
   "outputs": [
    {
     "name": "stderr",
     "output_type": "stream",
     "text": [
      " 30%|███       | 114/374 [00:15<00:36,  7.20it/s]\n"
     ]
    },
    {
     "ename": "KeyboardInterrupt",
     "evalue": "",
     "output_type": "error",
     "traceback": [
      "\u001b[1;31m---------------------------------------------------------------------------\u001b[0m",
      "\u001b[1;31mKeyboardInterrupt\u001b[0m                         Traceback (most recent call last)",
      "Cell \u001b[1;32mIn[14], line 4\u001b[0m\n\u001b[0;32m      2\u001b[0m prev_frame \u001b[38;5;241m=\u001b[39m cv2\u001b[38;5;241m.\u001b[39mimread(\u001b[38;5;124mf\u001b[39m\u001b[38;5;124m\"\u001b[39m\u001b[38;5;132;01m{\u001b[39;00mframes_dir\u001b[38;5;132;01m}\u001b[39;00m\u001b[38;5;124m/frame\u001b[39m\u001b[38;5;132;01m{\u001b[39;00mi\u001b[38;5;132;01m}\u001b[39;00m\u001b[38;5;124m.jpg\u001b[39m\u001b[38;5;124m\"\u001b[39m)\n\u001b[0;32m      3\u001b[0m prev_frame\u001b[38;5;241m.\u001b[39msize\n\u001b[1;32m----> 4\u001b[0m curr_frame \u001b[38;5;241m=\u001b[39m \u001b[43mcv2\u001b[49m\u001b[38;5;241;43m.\u001b[39;49m\u001b[43mimread\u001b[49m\u001b[43m(\u001b[49m\u001b[38;5;124;43mf\u001b[39;49m\u001b[38;5;124;43m\"\u001b[39;49m\u001b[38;5;132;43;01m{\u001b[39;49;00m\u001b[43mframes_dir\u001b[49m\u001b[38;5;132;43;01m}\u001b[39;49;00m\u001b[38;5;124;43m/frame\u001b[39;49m\u001b[38;5;132;43;01m{\u001b[39;49;00m\u001b[43mi\u001b[49m\u001b[38;5;250;43m \u001b[39;49m\u001b[38;5;241;43m+\u001b[39;49m\u001b[38;5;250;43m \u001b[39;49m\u001b[38;5;241;43m1\u001b[39;49m\u001b[38;5;132;43;01m}\u001b[39;49;00m\u001b[38;5;124;43m.jpg\u001b[39;49m\u001b[38;5;124;43m\"\u001b[39;49m\u001b[43m)\u001b[49m\n\u001b[0;32m      5\u001b[0m curr_frame\u001b[38;5;241m.\u001b[39msize\n\u001b[0;32m      6\u001b[0m \u001b[38;5;250m\u001b[39m\u001b[38;5;124;03m'''\u001b[39;00m\n\u001b[0;32m      7\u001b[0m \u001b[38;5;124;03m# Calcolo del flusso ottico (metodo di Farneback)\u001b[39;00m\n\u001b[0;32m      8\u001b[0m \u001b[38;5;124;03mflow = cv2.calcOpticalFlowFarneback(prev_frame, curr_frame, None, 0.5, 3, 15, 3, 5, 1.2, 0)\u001b[39;00m\n\u001b[1;32m   (...)\u001b[0m\n\u001b[0;32m     32\u001b[0m \u001b[38;5;124;03mcv2.imwrite(f\"{output_dir}/frame{i}.jpg\", binary_motion_map)    \u001b[39;00m\n\u001b[0;32m     33\u001b[0m \u001b[38;5;124;03m'''\u001b[39;00m\n",
      "\u001b[1;31mKeyboardInterrupt\u001b[0m: "
     ]
    }
   ],
   "source": [
    "\n",
    "\n",
    "for i in tqdm(range(len(glob.glob1(frames_dir, \"*.jpg\")) - 1)):\n",
    "    prev_frame = cv2.imread(f\"{frames_dir}/frame{i}.jpg\")\n",
    "    prev_frame.size\n",
    "    curr_frame = cv2.imread(f\"{frames_dir}/frame{i + 1}.jpg\")\n",
    "    curr_frame.size\n",
    "    '''\n",
    "    # Calcolo del flusso ottico (metodo di Farneback)\n",
    "    flow = cv2.calcOpticalFlowFarneback(prev_frame, curr_frame, None, 0.5, 3, 15, 3, 5, 1.2, 0)\n",
    "\n",
    "    # Creazione della mappa del movimento compensata\n",
    "    h, w = prev_frame.shape\n",
    "    compensated = np.zeros_like(prev_frame, dtype=np.float32)\n",
    "\n",
    "    for y in range(h):\n",
    "        for x in range(w):\n",
    "            dx, dy = flow[y, x]\n",
    "            x_comp = int(x + dx)\n",
    "            y_comp = int(y + dy)\n",
    "\n",
    "            # Controlla che il pixel rientri nell'immagine\n",
    "            if 0 <= x_comp < w and 0 <= y_comp < h:\n",
    "                compensated[y, x] = prev_frame[y_comp, x_comp]\n",
    "\n",
    "    # Filtro temporale lungo la traiettoria\n",
    "    #filtered = cv2.GaussianBlur(compensated, (5, 5), 0)\n",
    "\n",
    "    # Differenza tra frame originale e compensato\n",
    "    #motion_map = cv2.absdiff(prev_frame, filtered)\n",
    "    motion_map = cv2.absdiff(prev_frame, compensated)\n",
    "    _, binary_motion_map = cv2.threshold(motion_map, 25, 255, cv2.THRESH_BINARY)\n",
    "    out.write(binary_motion_map)\n",
    "    cv2.imwrite(f\"{output_dir}/frame{i}.jpg\", binary_motion_map)    \n",
    "    '''\n",
    "out.release()"
   ]
  },
  {
   "cell_type": "code",
   "execution_count": null,
   "metadata": {},
   "outputs": [],
   "source": []
  }
 ],
 "metadata": {
  "kernelspec": {
   "display_name": "venv",
   "language": "python",
   "name": "python3"
  },
  "language_info": {
   "codemirror_mode": {
    "name": "ipython",
    "version": 3
   },
   "file_extension": ".py",
   "mimetype": "text/x-python",
   "name": "python",
   "nbconvert_exporter": "python",
   "pygments_lexer": "ipython3",
   "version": "3.12.1"
  }
 },
 "nbformat": 4,
 "nbformat_minor": 2
}
