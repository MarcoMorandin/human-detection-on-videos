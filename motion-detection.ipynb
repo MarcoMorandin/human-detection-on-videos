{
 "cells": [
  {
   "cell_type": "code",
   "execution_count": 1,
   "metadata": {},
   "outputs": [],
   "source": [
    "import cv2\n",
    "from tqdm import tqdm\n",
    "import os\n",
    "import glob"
   ]
  },
  {
   "cell_type": "code",
   "execution_count": 2,
   "metadata": {},
   "outputs": [],
   "source": [
    "frames_dir = 'preprocessed-frames'\n",
    "output_dir = 'motion-detection-frames'"
   ]
  },
  {
   "cell_type": "code",
   "execution_count": 3,
   "metadata": {},
   "outputs": [],
   "source": [
    "out = cv2.VideoWriter(\"motion-detection-output.avi\", cv2.VideoWriter_fourcc(*\"MJPG\"), 15, (3420,1910))\n"
   ]
  },
  {
   "cell_type": "code",
   "execution_count": 4,
   "metadata": {},
   "outputs": [
    {
     "name": "stderr",
     "output_type": "stream",
     "text": [
      "100%|██████████| 749/749 [01:04<00:00, 11.64it/s]\n"
     ]
    }
   ],
   "source": [
    "for i in tqdm(range(len(glob.glob1(frames_dir, \"*.jpg\")) - 1)):\n",
    "    prev_frame = cv2.imread(f\"{frames_dir}/frame{i}.jpg\")\n",
    "    curr_frame = cv2.imread(f\"{frames_dir}/frame{i + 1}.jpg\")\n",
    "\n",
    "    diff = cv2.absdiff(curr_frame, prev_frame)\n",
    "    _, binary_diff = cv2.threshold(diff, 30, 255, cv2.THRESH_BINARY)\n",
    "    kernel = cv2.getStructuringElement(cv2.MORPH_ELLIPSE, (5, 5))\n",
    "    clean_diff = cv2.morphologyEx(binary_diff, cv2.MORPH_CLOSE, kernel)\n",
    "    \n",
    "    out.write(clean_diff)\n",
    "    cv2.imwrite(f\"{output_dir}/frame{i}.jpg\", clean_diff)    \n",
    "\n",
    "    # flow = cv2.calcOpticalFlowFarneback(prev_frame, curr_frame, None,\n",
    "    #                                 0.5, 3, 15, 3, 5, 1.2, 0)\n",
    "    # magnitude, angle = cv2.cartToPolar(flow[..., 0], flow[..., 1])\n",
    "out.release()"
   ]
  }
 ],
 "metadata": {
  "kernelspec": {
   "display_name": ".venv",
   "language": "python",
   "name": "python3"
  },
  "language_info": {
   "codemirror_mode": {
    "name": "ipython",
    "version": 3
   },
   "file_extension": ".py",
   "mimetype": "text/x-python",
   "name": "python",
   "nbconvert_exporter": "python",
   "pygments_lexer": "ipython3",
   "version": "3.12.7"
  }
 },
 "nbformat": 4,
 "nbformat_minor": 2
}
