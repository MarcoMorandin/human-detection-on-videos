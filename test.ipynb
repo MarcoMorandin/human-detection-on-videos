{
 "cells": [
  {
   "cell_type": "code",
   "execution_count": 2,
   "metadata": {},
   "outputs": [],
   "source": [
    "import numpy as np\n",
    "import cv2\n",
    "import os\n",
    "import time\n",
    "from matplotlib import pyplot as plt\n",
    "from tqdm import tqdm\n",
    "import glob\n",
    "frames_dir = 'preprocessed-frames'\n",
    "output_dir = 'bg-detection-frames'"
   ]
  },
  {
   "cell_type": "code",
   "execution_count": 12,
   "metadata": {},
   "outputs": [],
   "source": [
    "if not os.path.exists(output_dir):\n",
    "    os.makedirs(output_dir)"
   ]
  },
  {
   "cell_type": "code",
   "execution_count": null,
   "metadata": {},
   "outputs": [],
   "source": [
    "bg_subtractor = cv2.createBackgroundSubtractorKNN(history=300, detectShadows=False)"
   ]
  },
  {
   "cell_type": "code",
   "execution_count": null,
   "metadata": {},
   "outputs": [],
   "source": [
    "for i in tqdm(range(250, 350)):\n",
    "    frame = cv2.imread(f\"{frames_dir}/frame{i}.jpg\")\n",
    "    img_sub = bg_subtractor.apply(frame)\n",
    "    \n",
    "    #edged = cv2.Canny(img_sub, 30, 200) \n",
    "    contours, _ = cv2.findContours(\n",
    "        img_sub, cv2.RETR_TREE, cv2.CHAIN_APPROX_SIMPLE\n",
    "    )\n",
    "    \n",
    "    \n",
    "    for c in contours:\n",
    "        (x, y, w, h) = cv2.boundingRect(c)\n",
    "        area = cv2.contourArea(c)\n",
    "        aspect_ratio = float(h) / w\n",
    "        # if area > 10:\n",
    "        #     print(area)\n",
    "\n",
    "        # if 10000 <= area <= 50000 and 0.2 <= aspect_ratio <= 0.5:\n",
    "        #     print(\"person detected in frame: \", i)\n",
    "        cv2.rectangle(frame, (x, y), (x + w, y + h), (0, 255, 0), 2)\n",
    "    \n",
    "    cv2.imwrite(f\"{output_dir}/frame{i}.jpg\", frame)    \n"
   ]
  },
  {
   "cell_type": "code",
   "execution_count": null,
   "metadata": {},
   "outputs": [],
   "source": [
    "#print(areas)"
   ]
  },
  {
   "cell_type": "code",
   "execution_count": 13,
   "metadata": {},
   "outputs": [],
   "source": [
    "CONTOUR_WIDTH = (70, 300)\n",
    "CONTOUR_HEIGHT = (70, 300)"
   ]
  },
  {
   "cell_type": "code",
   "execution_count": null,
   "metadata": {},
   "outputs": [],
   "source": [
    "def drawBoundingBoxes(contours, frame) -> tuple[list, list]:\n",
    "    \"\"\"\n",
    "    Draw bounding boxes around detected vehicles and return their center c\n",
    "    return frameoordinates\n",
    "\n",
    "    Args:\n",
    "        contours (list): a list of contours\n",
    "        frame (np.ndarray): the frame\n",
    "\n",
    "    Returns:\n",
    "        detectedVehicles (list): a list of detected vehicles\n",
    "        boundingBoxes (list): a list of bounding boxes\n",
    "    \"\"\"\n",
    "\n",
    "    boundingBoxes = []\n",
    "\n",
    "    for c in contours:\n",
    "        (x, y, w, h) = cv2.boundingRect(c)\n",
    "        contour_valid = (\n",
    "            (w >= CONTOUR_WIDTH[0])\n",
    "            and (h >= CONTOUR_HEIGHT[0])\n",
    "            and (w <= CONTOUR_WIDTH[1])\n",
    "            and (h <= CONTOUR_HEIGHT[1])\n",
    "        )\n",
    "\n",
    "        if not contour_valid:\n",
    "            continue\n",
    "\n",
    "        # draw bounding boxes\n",
    "        cv2.rectangle(frame, (x, y), (x + w, y + h), (0, 255, 0), 2)\n",
    "        boundingBoxes.append((x, y, w, h))\n",
    "\n",
    "    return boundingBoxes"
   ]
  },
  {
   "cell_type": "code",
   "execution_count": null,
   "metadata": {},
   "outputs": [],
   "source": [
    "#contours, _ = cv2.findContours(\n",
    "#            filteredImage, cv2.RETR_TREE, cv2.CHAIN_APPROX_SIMPLE\n",
    "#        )\n",
    "\n",
    "#boundingBoxes = drawBoundingBoxes(contours, frame)\n"
   ]
  },
  {
   "cell_type": "code",
   "execution_count": null,
   "metadata": {},
   "outputs": [],
   "source": [
    "plt.imshow(frame)\n",
    "plt.show()"
   ]
  },
  {
   "cell_type": "code",
   "execution_count": 3,
   "metadata": {},
   "outputs": [
    {
     "name": "stderr",
     "output_type": "stream",
     "text": [
      "  0%|          | 0/100 [00:00<?, ?it/s]"
     ]
    },
    {
     "name": "stderr",
     "output_type": "stream",
     "text": [
      "100%|██████████| 100/100 [00:21<00:00,  4.61it/s]\n"
     ]
    }
   ],
   "source": [
    "bg_subtractor = cv2.createBackgroundSubtractorKNN(history=300, detectShadows=False)\n",
    "output_dir=\"bg-detection-frames-detect-whole-object\"\n",
    "\n",
    "if not os.path.exists(output_dir):\n",
    "    os.makedirs(output_dir)\n",
    "\n",
    "for i in tqdm(range(250, 350)):\n",
    "    frame = cv2.imread(f\"{frames_dir}/frame{i}.jpg\")\n",
    "    img_sub = bg_subtractor.apply(frame)\n",
    "    \n",
    "    #edged = cv2.Canny(img_sub, 30, 200) \n",
    "\n",
    "    # threshold if it is bigger than 240 pixel is equal to 255 if smaller pixel is equal to 0\n",
    "    # create binary image , it contains only white and black pixels (since shadow are grey)\n",
    "    #ret , treshold = cv2.threshold(img_sub.copy(), 120, 255,cv2.THRESH_BINARY)\n",
    "    \n",
    "    #  dilation expands or thickens regions of interest in an image.\n",
    "    dilated = cv2.dilate(img_sub,cv2.getStructuringElement(cv2.MORPH_ELLIPSE, (3,3)),iterations = 2)\n",
    "\n",
    "    contours, _ = cv2.findContours(\n",
    "        #RETR_EXTERNAL, prende solo i contorni esternie non quelli interni\n",
    "        #RETR_TREE: Rileva tutti i contorni e costruisce una gerarchia (inclusi i contorni interni).\n",
    "        dilated, cv2.RETR_EXTERNAL, cv2.CHAIN_APPROX_SIMPLE\n",
    "    )\n",
    "    \n",
    "    \n",
    "    for c in contours:\n",
    "         # if area exceed certain value then draw bounding boxes\n",
    "        if cv2.contourArea(c) > 50:\n",
    "            (x, y, w, h) = cv2.boundingRect(c)\n",
    "            area = cv2.contourArea(c)\n",
    "            cv2.rectangle(frame, (x,y), (x+w, y+h), (255, 255, 0), 2)\n",
    "            aspect_ratio = float(h) / w\n",
    "            \n",
    "    \n",
    "    cv2.imwrite(f\"{output_dir}/frame{i}.jpg\", frame)    \n"
   ]
  },
  {
   "cell_type": "code",
   "execution_count": 33,
   "metadata": {},
   "outputs": [],
   "source": [
    "bg_subtractor = cv2.createBackgroundSubtractorKNN(history=300, detectShadows=False)"
   ]
  },
  {
   "cell_type": "code",
   "execution_count": 34,
   "metadata": {},
   "outputs": [],
   "source": [
    "output_dir=\"bg-detection-frames-detect-whole-object-freeman\"\n",
    "if not os.path.exists(output_dir):\n",
    "    os.makedirs(output_dir)"
   ]
  },
  {
   "cell_type": "code",
   "execution_count": 35,
   "metadata": {},
   "outputs": [
    {
     "name": "stderr",
     "output_type": "stream",
     "text": [
      "100%|██████████| 100/100 [00:20<00:00,  4.86it/s]\n"
     ]
    }
   ],
   "source": [
    "for i in tqdm(range(250, 350)):\n",
    "    frame = cv2.imread(f\"{frames_dir}/frame{i}.jpg\")\n",
    "    img_sub = bg_subtractor.apply(frame)\n",
    "    \n",
    "    #edged = cv2.Canny(img_sub, 30, 200) \n",
    "\n",
    "    # threshold if it is bigger than 240 pixel is equal to 255 if smaller pixel is equal to 0\n",
    "    # create binary image , it contains only white and black pixels (since shadow are grey)\n",
    "    #ret , treshold = cv2.threshold(img_sub.copy(), 120, 255,cv2.THRESH_BINARY)\n",
    "    \n",
    "    #  dilation expands or thickens regions of interest in an image.\n",
    "    dilated = cv2.dilate(img_sub,cv2.getStructuringElement(cv2.MORPH_ELLIPSE, (3,3)),iterations = 2)\n",
    "\n",
    "    contours, _ = cv2.findContours(\n",
    "        #RETR_EXTERNAL, prende solo i contorni esternie non quelli interni\n",
    "        #RETR_TREE: Rileva tutti i contorni e costruisce una gerarchia (inclusi i contorni interni).\n",
    "        dilated, cv2.RETR_EXTERNAL, cv2.CHAIN_APPROX_SIMPLE\n",
    "    )\n",
    "    \n",
    "    \n",
    "    for c in contours:\n",
    "         # if area exceed certain value then draw bounding boxes\n",
    "        if cv2.contourArea(c) > 50:\n",
    "            \n",
    "            (x,y,w,h) = cv2.boundingRect(c)\n",
    "            cv2.rectangle(frame, (x,y), (x+w, y+h), (255, 255, 0), 2)\n",
    "            aspect_ratio = float(h) / w\n",
    "            '''\n",
    "            '''\n",
    "            # Applica il Freeman Chain Code\n",
    "            chain_code = []\n",
    "            contour_points = c.squeeze(axis=1)  # Ottieni i punti del contorno\n",
    "            \n",
    "            for j in range(len(contour_points) - 1):\n",
    "                dx = contour_points[j + 1][0] - contour_points[j][0]\n",
    "                dy = contour_points[j + 1][1] - contour_points[j][1]\n",
    "\n",
    "                # Direzione secondo Freeman (8 direzioni)\n",
    "                if dx == 1 and dy == 0:\n",
    "                    chain_code.append(0)\n",
    "                elif dx == 1 and dy == -1:\n",
    "                    chain_code.append(1)\n",
    "                elif dx == 0 and dy == -1:\n",
    "                    chain_code.append(2)\n",
    "                elif dx == -1 and dy == -1:\n",
    "                    chain_code.append(3)\n",
    "                elif dx == -1 and dy == 0:\n",
    "                    chain_code.append(4)\n",
    "                elif dx == -1 and dy == 1:\n",
    "                    chain_code.append(5)\n",
    "                elif dx == 0 and dy == 1:\n",
    "                    chain_code.append(6)\n",
    "                elif dx == 1 and dy == 1:\n",
    "                    chain_code.append(7)\n",
    "            \n",
    "            cv2.rectangle(frame, (x, y), (x + w, y + h), (255, 255, 0), 2)\n",
    "            \n",
    "    cv2.imwrite(f\"{output_dir}/frame{i}.jpg\", frame)    \n"
   ]
  },
  {
   "cell_type": "markdown",
   "metadata": {},
   "source": [
    "TODO: riguardare il freeman e detectare anche quando è fermo"
   ]
  },
  {
   "cell_type": "code",
   "execution_count": null,
   "metadata": {},
   "outputs": [],
   "source": []
  }
 ],
 "metadata": {
  "kernelspec": {
   "display_name": "venv",
   "language": "python",
   "name": "python3"
  },
  "language_info": {
   "codemirror_mode": {
    "name": "ipython",
    "version": 3
   },
   "file_extension": ".py",
   "mimetype": "text/x-python",
   "name": "python",
   "nbconvert_exporter": "python",
   "pygments_lexer": "ipython3",
   "version": "3.12.1"
  }
 },
 "nbformat": 4,
 "nbformat_minor": 2
}
